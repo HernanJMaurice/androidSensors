{
  "nbformat": 4,
  "nbformat_minor": 0,
  "metadata": {
    "colab": {
      "name": "Untitled0.ipynb",
      "provenance": [],
      "authorship_tag": "ABX9TyP+eZjFrnOqkCHg+KaBkyin",
      "include_colab_link": true
    },
    "kernelspec": {
      "name": "python3",
      "display_name": "Python 3"
    }
  },
  "cells": [
    {
      "cell_type": "markdown",
      "metadata": {
        "id": "view-in-github",
        "colab_type": "text"
      },
      "source": [
        "<a href=\"https://colab.research.google.com/github/HernanJMaurice/androidSensors/blob/main/HPC/Maurice_Hernan_Ejercicio_3.ipynb\" target=\"_parent\"><img src=\"https://colab.research.google.com/assets/colab-badge.svg\" alt=\"Open In Colab\"/></a>"
      ]
    },
    {
      "cell_type": "code",
      "metadata": {
        "id": "Hbz0AoNd0xPz"
      },
      "source": [
        "\n",
        "url = \"https://fcm.googleapis.com/fcm/send\"\n",
        "\n",
        "data = {\n",
        "    \"to\":\"/topics/all\",\n",
        "    \"notification\":{\n",
        "        \"sound\": \"default\",\n",
        "        \"body\" : \"Este es el cuerpo\",\n",
        "        \"title\": \"Este es el Titulo\",\n",
        "        \"content_available\" : True,\n",
        "        \"priority\" : \"high\"\n",
        "    },\n",
        "    \"data\":{\n",
        "        \"sound\": \"default\",\n",
        "        \"body\" :\"Este es el cuerpo\",\n",
        "        \"title\" :\"Este es el Titulo\",\n",
        "        \"content_available\": True,\n",
        "        \"priority\" :\"high\"\n",
        "    }\n",
        "}\n",
        "\n",
        "headers = {'Authorization': 'key=AAAACPWgRFU:APA91bEK8Eo-3Mdwr_hzjj-rVv4D4KAUPBzCA0Uot_UdkOqL_zR2Op8M5gYNX3txi7tWotiudXuBtZtULhgai0rZmdSHEiAGw4ZorFSq37nPupC1wS8ckti3UYrN3wpvby9ljSPCq-Rq', 'Content-Type': 'application/json'}\n",
        "data=json.dumps(data)\n",
        "r = requests.post(url, data, headers=headers)\n",
        "print(r.content)\n"
      ],
      "execution_count": null,
      "outputs": []
    },
    {
      "cell_type": "code",
      "metadata": {
        "id": "mIUM3fOn3t90",
        "outputId": "7567e8ad-e1b9-43f2-992d-d68aed763bdf",
        "colab": {
          "base_uri": "https://localhost:8080/"
        }
      },
      "source": [
        "pip install requests"
      ],
      "execution_count": 71,
      "outputs": [
        {
          "output_type": "stream",
          "text": [
            "Exception ignored in: <function _get_module_lock.<locals>.cb at 0x7f51ab8e8048>\n",
            "Traceback (most recent call last):\n",
            "  File \"<frozen importlib._bootstrap>\", line 176, in cb\n",
            "KeyboardInterrupt: \n",
            "Traceback (most recent call last):\n",
            "  File \"/usr/local/bin/pip3\", line 8, in <module>\n",
            "    sys.exit(main())\n",
            "  File \"/usr/local/lib/python3.6/dist-packages/pip/_internal/main.py\", line 45, in main\n",
            "    command = create_command(cmd_name, isolated=(\"--isolated\" in cmd_args))\n",
            "  File \"/usr/local/lib/python3.6/dist-packages/pip/_internal/commands/__init__.py\", line 96, in create_command\n",
            "    module = importlib.import_module(module_path)\n",
            "  File \"/usr/lib/python3.6/importlib/__init__.py\", line 126, in import_module\n",
            "    return _bootstrap._gcd_import(name[level:], package, level)\n",
            "  File \"<frozen importlib._bootstrap>\", line 994, in _gcd_import\n",
            "  File \"<frozen importlib._bootstrap>\", line 971, in _find_and_load\n",
            "  File \"<frozen importlib._bootstrap>\", line 955, in _find_and_load_unlocked\n",
            "  File \"<frozen importlib._bootstrap>\", line 665, in _load_unlocked\n",
            "  File \"<frozen importlib._bootstrap_external>\", line 678, in exec_module\n",
            "  File \"<frozen importlib._bootstrap>\", line 219, in _call_with_frames_removed\n",
            "  File \"/usr/local/lib/python3.6/dist-packages/pip/_internal/commands/install.py\", line 23, in <module>\n",
            "    from pip._internal.cli.req_command import RequirementCommand\n",
            "  File \"/usr/local/lib/python3.6/dist-packages/pip/_internal/cli/req_command.py\", line 20, in <module>\n",
            "    from pip._internal.network.session import PipSession\n",
            "  File \"/usr/local/lib/python3.6/dist-packages/pip/_internal/network/session.py\", line 17, in <module>\n",
            "    from pip._vendor import requests, six, urllib3\n",
            "  File \"/usr/local/lib/python3.6/dist-packages/pip/_vendor/requests/__init__.py\", line 44, in <module>\n",
            "    from pip._vendor import chardet\n",
            "  File \"/usr/local/lib/python3.6/dist-packages/pip/_vendor/chardet/__init__.py\", line 20, in <module>\n",
            "    from .universaldetector import UniversalDetector\n",
            "  File \"/usr/local/lib/python3.6/dist-packages/pip/_vendor/chardet/universaldetector.py\", line 47, in <module>\n",
            "    from .mbcsgroupprober import MBCSGroupProber\n",
            "  File \"/usr/local/lib/python3.6/dist-packages/pip/_vendor/chardet/mbcsgroupprober.py\", line 32, in <module>\n",
            "    from .sjisprober import SJISProber\n",
            "  File \"/usr/local/lib/python3.6/dist-packages/pip/_vendor/chardet/sjisprober.py\", line 30, in <module>\n",
            "    from .chardistribution import SJISDistributionAnalysis\n",
            "  File \"/usr/local/lib/python3.6/dist-packages/pip/_vendor/chardet/chardistribution.py\", line 36, in <module>\n",
            "    from .jisfreq import (JIS_CHAR_TO_FREQ_ORDER, JIS_TABLE_SIZE,\n",
            "  File \"<frozen importlib._bootstrap>\", line 971, in _find_and_load\n",
            "  File \"<frozen importlib._bootstrap>\", line 955, in _find_and_load_unlocked\n",
            "  File \"<frozen importlib._bootstrap>\", line 665, in _load_unlocked\n",
            "  File \"<frozen importlib._bootstrap_external>\", line 674, in exec_module\n",
            "  File \"<frozen importlib._bootstrap_external>\", line 779, in get_code\n",
            "  File \"<frozen importlib._bootstrap_external>\", line 487, in _compile_bytecode\n",
            "KeyboardInterrupt\n"
          ],
          "name": "stdout"
        }
      ]
    },
    {
      "cell_type": "code",
      "metadata": {
        "id": "esHLsseI2gWN"
      },
      "source": [
        "code = \"\"\"\n",
        "\n",
        "#include <string.h>\n",
        "#include <stdio.h>\n",
        "#include <mpi.h>\n",
        "\n",
        "int main(int argc, char** argv)\n",
        "{\n",
        "  int myRank, numProcs;\n",
        "  int tag=1;\n",
        "  char mensaje[100];\n",
        "  char mensajeRespuesta[100];\n",
        "  MPI_Status status;\n",
        "\n",
        "  MPI_Init(NULL, NULL);\n",
        "\n",
        "  MPI_Comm_rank( MPI_COMM_WORLD, &myRank );\n",
        "  MPI_Comm_size( MPI_COMM_WORLD, &numProcs );\n",
        "\n",
        "  if( myRank != 0 )\n",
        "  {\n",
        "\t  int dest = 0;\n",
        "    MPI_Recv(&mensaje, 1, MPI_CHAR, 0, tag, MPI_COMM_WORLD, &status);\n",
        "\n",
        "    sprintf( mensajeRespuesta, \"Recibido %s del proceso %d de %d\", mensaje, myRank, numProcs );\t\n",
        "  \n",
        "    MPI_Send(&mensajeRespuesta, strlen(mensajeRespuesta)+1, MPI_CHAR, dest, tag, MPI_COMM_WORLD);\n",
        "  }\n",
        "  else\n",
        "  {\n",
        "    for(int i=1; i<numProcs; i++)\n",
        "    {\n",
        "      MPI_Send(&argv[1][i], 1, MPI_CHAR, i, tag, MPI_COMM_WORLD);\n",
        "      printf(\"Enviado a %d\\\\n\", i);\n",
        "    }\n",
        "    for(int i=1; i<numProcs; i++)\n",
        "    {\n",
        "       MPI_Recv(&mensaje, 100, MPI_CHAR, i, tag, MPI_COMM_WORLD, &status);\n",
        "       printf( \"%s\\\\n\", mensaje );\n",
        "    }\n",
        "\n",
        "  }\n",
        "\n",
        "  MPI_Finalize();\n",
        "}\n",
        "\"\"\"\n",
        "text_file = open(\"hello.c\", \"w\")\n",
        "text_file.write(code)\n",
        "text_file.close()"
      ],
      "execution_count": 102,
      "outputs": []
    },
    {
      "cell_type": "code",
      "metadata": {
        "id": "Y3KmLmht2hqV"
      },
      "source": [
        "!mpicc -o hello hello.c "
      ],
      "execution_count": 103,
      "outputs": []
    },
    {
      "cell_type": "code",
      "metadata": {
        "id": "8hCI7lKj2juP",
        "outputId": "d22add48-db1f-4a6a-9b6c-9e9e52feaff8",
        "colab": {
          "base_uri": "https://localhost:8080/"
        }
      },
      "source": [
        "!mpirun --allow-run-as-root -n 7 hello -\"ABCDEF\" \n",
        "\n",
        "\n",
        "\n"
      ],
      "execution_count": 104,
      "outputs": [
        {
          "output_type": "stream",
          "text": [
            "Enviado a 1\n",
            "Enviado a 2\n",
            "Enviado a 3\n",
            "Enviado a 4\n",
            "Enviado a 5\n",
            "Enviado a 6\n",
            "Recibido A del proceso 1 de 7\n",
            "Recibido B del proceso 2 de 7\n",
            "Recibido C del proceso 3 de 7\n",
            "Recibido D del proceso 4 de 7\n",
            "Recibido E del proceso 5 de 7\n",
            "Recibido F del proceso 6 de 7\n"
          ],
          "name": "stdout"
        }
      ]
    }
  ]
}