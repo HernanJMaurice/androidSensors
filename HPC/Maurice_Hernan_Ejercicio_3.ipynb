{
  "nbformat": 4,
  "nbformat_minor": 0,
  "metadata": {
    "colab": {
      "name": "Untitled0.ipynb",
      "provenance": [],
      "authorship_tag": "ABX9TyNYozG/hXL6M25zMMxAsJds",
      "include_colab_link": true
    },
    "kernelspec": {
      "name": "python3",
      "display_name": "Python 3"
    }
  },
  "cells": [
    {
      "cell_type": "markdown",
      "metadata": {
        "id": "view-in-github",
        "colab_type": "text"
      },
      "source": [
        "<a href=\"https://colab.research.google.com/github/HernanJMaurice/androidSensors/blob/main/HPC/Maurice_Hernan_Ejercicio_3.ipynb\" target=\"_parent\"><img src=\"https://colab.research.google.com/assets/colab-badge.svg\" alt=\"Open In Colab\"/></a>"
      ]
    },
    {
      "cell_type": "code",
      "metadata": {
        "id": "Hbz0AoNd0xPz"
      },
      "source": [
        "\n",
        "url = \"https://fcm.googleapis.com/fcm/send\"\n",
        "\n",
        "data = {\n",
        "    \"to\":\"/topics/all\",\n",
        "    \"notification\":{\n",
        "        \"sound\": \"default\",\n",
        "        \"body\" : \"Este es el cuerpo\",\n",
        "        \"title\": \"Este es el Titulo\",\n",
        "        \"content_available\" : True,\n",
        "        \"priority\" : \"high\"\n",
        "    },\n",
        "    \"data\":{\n",
        "        \"sound\": \"default\",\n",
        "        \"body\" :\"Este es el cuerpo\",\n",
        "        \"title\" :\"Este es el Titulo\",\n",
        "        \"content_available\": True,\n",
        "        \"priority\" :\"high\"\n",
        "    }\n",
        "}\n",
        "\n",
        "headers = {'Authorization': 'key=AAAACPWgRFU:APA91bEK8Eo-3Mdwr_hzjj-rVv4D4KAUPBzCA0Uot_UdkOqL_zR2Op8M5gYNX3txi7tWotiudXuBtZtULhgai0rZmdSHEiAGw4ZorFSq37nPupC1wS8ckti3UYrN3wpvby9ljSPCq-Rq', 'Content-Type': 'application/json'}\n",
        "data=json.dumps(data)\n",
        "r = requests.post(url, data, headers=headers)\n",
        "print(r.content)\n"
      ],
      "execution_count": null,
      "outputs": []
    },
    {
      "cell_type": "code",
      "metadata": {
        "id": "mIUM3fOn3t90",
        "colab": {
          "base_uri": "https://localhost:8080/"
        },
        "outputId": "3a1d353b-024e-4876-dd43-67728a96783b"
      },
      "source": [
        "pip install requests\n"
      ],
      "execution_count": 174,
      "outputs": [
        {
          "output_type": "stream",
          "text": [
            "Requirement already satisfied: requests in /usr/local/lib/python3.6/dist-packages (2.23.0)\n",
            "Requirement already satisfied: certifi>=2017.4.17 in /usr/local/lib/python3.6/dist-packages (from requests) (2020.6.20)\n",
            "Requirement already satisfied: idna<3,>=2.5 in /usr/local/lib/python3.6/dist-packages (from requests) (2.10)\n",
            "Requirement already satisfied: chardet<4,>=3.0.2 in /usr/local/lib/python3.6/dist-packages (from requests) (3.0.4)\n",
            "Requirement already satisfied: urllib3!=1.25.0,!=1.25.1,<1.26,>=1.21.1 in /usr/local/lib/python3.6/dist-packages (from requests) (1.24.3)\n"
          ],
          "name": "stdout"
        }
      ]
    },
    {
      "cell_type": "code",
      "metadata": {
        "id": "esHLsseI2gWN"
      },
      "source": [
        "code = \"\"\"\n",
        "\n",
        "#include <string.h>\n",
        "#include <stdio.h>\n",
        "#include <mpi.h>\n",
        "#include<stdlib.h>\n",
        "\n",
        "int main(int argc, char** argv)\n",
        "{\n",
        "  int myRank, numProcs;\n",
        "  int tag=1;\n",
        "  int lenght = atoi(argv[3]);\n",
        "  char mensaje[4];\n",
        "  char mensajeRespuesta[100];\n",
        "  char respuesta[lenght];\n",
        "  MPI_Status status;\n",
        "\n",
        "  MPI_Init(NULL, NULL);\n",
        "\n",
        "  MPI_Comm_rank( MPI_COMM_WORLD, &myRank );\n",
        "  MPI_Comm_size( MPI_COMM_WORLD, &numProcs );\n",
        "\n",
        "  //Si No es el primer proceso Ejecuta\n",
        "  if( myRank != 0 )\n",
        "  {\n",
        "      int dest = 0;\n",
        "      MPI_Recv(&mensaje, 4, MPI_CHAR, 0, tag, MPI_COMM_WORLD, &status);\n",
        "\n",
        "      if(mensaje[0] == mensaje[1])\n",
        "      {\n",
        "\n",
        "          sprintf( mensajeRespuesta, \"|\" );\n",
        "\n",
        "      }else if( mensaje[0] == ' ' || mensaje[1]== ' ')\n",
        "      {\n",
        "          sprintf( mensajeRespuesta, \" \" );\n",
        "      }else\n",
        "      {\n",
        "          sprintf( mensajeRespuesta, \"*\" );\n",
        "      }\n",
        "\n",
        "\n",
        "      //sprintf( mensajeRespuesta, \"Recibido %d y %d del proceso %d de %d\", mensaje[0],  mensaje[1], myRank, numProcs );\t\n",
        "      MPI_Send(&mensajeRespuesta, strlen(mensajeRespuesta), MPI_CHAR, dest, tag, MPI_COMM_WORLD);\n",
        "\n",
        "  }\n",
        "  else\n",
        "  {\n",
        "    \n",
        "    for(int i=1; i<numProcs; i++)\n",
        "    {\n",
        "        strcpy(mensaje, \"\");\n",
        "        if(i < strlen(argv[1]) && i < strlen(argv[2]))\n",
        "        {  \n",
        "            sprintf( mensaje, \"%c%c\", argv[1][i-1], argv[2][i-1] );\t\n",
        "        }else if( i <= strlen(argv[1]) && i > strlen(argv[2]) )\n",
        "        {\n",
        "            sprintf( mensaje, \"%c \", argv[1][i-1]);\t\n",
        "        }else if( i > strlen(argv[1]) && i <= strlen(argv[2]) )\n",
        "        {\n",
        "            sprintf( mensaje, \" %c\", argv[2][i-1]);\t\n",
        "        }\n",
        "\n",
        "        MPI_Send(mensaje, 2, MPI_CHAR, i, tag, MPI_COMM_WORLD);\n",
        "        \n",
        "        printf(\"Enviado %s a %d\\\\n\",mensaje, i);\n",
        "    }\n",
        "\n",
        "    strcpy(respuesta,\"\");\n",
        "\n",
        "    for(int i=1; i<numProcs; i++)\n",
        "    {\n",
        "       MPI_Recv(&mensajeRespuesta, 100, MPI_CHAR, i, tag, MPI_COMM_WORLD, &status);\n",
        "       //printf( \"%s\\\\n\", mensajeRespuesta);\n",
        "       //printf( \"Llego %s del proceso %d\\\\n\", respuesta, i );\n",
        "       strcat(respuesta, mensajeRespuesta);\n",
        "    }\n",
        "    \n",
        "    printf( \"-%s\\\\n\",argv[1]);\n",
        "    printf( \"-%s-\\\\n\", respuesta );\n",
        "    printf( \"-%s\\\\n\",argv[2]);\n",
        "\n",
        "  }\n",
        "\n",
        "  MPI_Finalize();\n",
        "}\n",
        "\"\"\"\n",
        "text_file = open(\"SecuenciacionADN.c\", \"w\")\n",
        "text_file.write(code)\n",
        "text_file.close()"
      ],
      "execution_count": 255,
      "outputs": []
    },
    {
      "cell_type": "code",
      "metadata": {
        "id": "Y3KmLmht2hqV"
      },
      "source": [
        "!mpicc -o SecuenciacionADN SecuenciacionADN.c "
      ],
      "execution_count": 256,
      "outputs": []
    },
    {
      "cell_type": "code",
      "metadata": {
        "id": "gT0FXxOML1ea",
        "outputId": "03b01d04-0784-4ba8-de8c-882f5e8a2967",
        "colab": {
          "base_uri": "https://localhost:8080/"
        }
      },
      "source": [
        "try:\n",
        "    primer_Cadena_ADN = 'ACTGAGTCGGATGACTGAGTCGGATG'#@param {type: \"string\"}\n",
        "    segunda_Cadena_ADN = 'ACTGAGTCGGAA GGGAGTCG ATGGGTTAG  CG TA '#@param {type: \"string\"}\n",
        "\n",
        "    import re #regex\n",
        "    import json \n",
        "    import requests\n",
        "\n",
        "    # Chequeo que solo tenga Nucleotidos permitidos.\n",
        "    if not primer_Cadena_ADN or not segunda_Cadena_ADN:\n",
        "        raise Exception(\"Cadena de ADN Vacia.\")\n",
        "        \n",
        "    # Lo paso siempre a Mayuscula.\n",
        "    primer_Cadena_ADN = primer_Cadena_ADN.upper()\n",
        "    segunda_Cadena_ADN = segunda_Cadena_ADN.upper()\n",
        "\n",
        "    pattern = re.compile(\"(A|C|T|G| )+\")\n",
        "\n",
        "    # Chequeo que solo tenga Nucleotidos permitidos.\n",
        "    if pattern.fullmatch(primer_Cadena_ADN) is None or pattern.fullmatch(segunda_Cadena_ADN) is None :\n",
        "            raise Exception(\"Cadena Incorrecta: Los nucleotidos pueden ser: A, C, T, G o ' '.\")\n",
        "\n",
        "\n",
        "    if len(primer_Cadena_ADN) > len(segunda_Cadena_ADN) :\n",
        "            largo = len(primer_Cadena_ADN)\n",
        "    else :\n",
        "            largo = len(segunda_Cadena_ADN)\n",
        "\n",
        "    mensaje = \"Cadenas:\", f'\"{primer_Cadena_ADN}\"', \"y\", f'\"{segunda_Cadena_ADN}\"'\n",
        "\n",
        "    print('!mpirun --allow-run-as-root -n',largo+1, 'SecuenciacionADN', f'\"{primer_Cadena_ADN}\"', f'\"{segunda_Cadena_ADN}\"', largo)\n",
        "\n",
        "\n",
        "    url = \"https://fcm.googleapis.com/fcm/send\"\n",
        "\n",
        "    data = {\n",
        "        \"to\":\"/topics/all\",\n",
        "        \"notification\":{\n",
        "            \"sound\": \"default\",\n",
        "            \"body\" : mensaje,\n",
        "            \"title\": \"Ejecucion Lista\",\n",
        "            \"content_available\" : True,\n",
        "            \"priority\" : \"high\"\n",
        "        }\n",
        "    }\n",
        "\n",
        "    headers = {'Authorization': 'key=AAAACPWgRFU:APA91bEK8Eo-3Mdwr_hzjj-rVv4D4KAUPBzCA0Uot_UdkOqL_zR2Op8M5gYNX3txi7tWotiudXuBtZtULhgai0rZmdSHEiAGw4ZorFSq37nPupC1wS8ckti3UYrN3wpvby9ljSPCq-Rq', 'Content-Type': 'application/json'}\n",
        "    data=json.dumps(data)\n",
        "    r = requests.post(url, data, headers=headers)\n",
        "    if (r.status_code == 200) :\n",
        "\n",
        "        print(\"Notificacion enviada exitosamente.\")\n",
        "    else :\n",
        "        print(\"Error en la Notificacion.\")\n",
        "    \n",
        "\n",
        "\n",
        "except Exception as e:\n",
        "          print('Error: ', e.args )"
      ],
      "execution_count": 187,
      "outputs": [
        {
          "output_type": "stream",
          "text": [
            "!mpirun --allow-run-as-root -n 40 SecuenciacionADN \"ACTGAGTCGGATGACTGAGTCGGATG\" \"ACTGAGTCGGAA GGGAGTCG ATGGGTTAG  CG TA \" 39\n",
            "Notificacion enviada exitosamente.\n"
          ],
          "name": "stdout"
        }
      ]
    },
    {
      "cell_type": "code",
      "metadata": {
        "id": "8hCI7lKj2juP",
        "colab": {
          "base_uri": "https://localhost:8080/"
        },
        "outputId": "3d80a857-fa2c-4ab1-8943-fe188b3aae44"
      },
      "source": [
        "!mpirun --allow-run-as-root -n 39 SecuenciacionADN \"ACTGAGTCGGATGACTGAGTCGGATG\" \"ACTGAGTCGGAA GGGAGTCG ATGGGTTAG  CG TA\" 38"
      ],
      "execution_count": 257,
      "outputs": [
        {
          "output_type": "stream",
          "text": [
            "Enviado AA a 1\n",
            "Enviado CC a 2\n",
            "Enviado TT a 3\n",
            "Enviado GG a 4\n",
            "Enviado AA a 5\n",
            "Enviado GG a 6\n",
            "Enviado TT a 7\n",
            "Enviado CC a 8\n",
            "Enviado GG a 9\n",
            "Enviado GG a 10\n",
            "Enviado AA a 11\n",
            "Enviado TA a 12\n",
            "Enviado G  a 13\n",
            "Enviado AG a 14\n",
            "Enviado CG a 15\n",
            "Enviado TG a 16\n",
            "Enviado GA a 17\n",
            "Enviado AG a 18\n",
            "Enviado GT a 19\n",
            "Enviado TC a 20\n",
            "Enviado CG a 21\n",
            "Enviado G  a 22\n",
            "Enviado GA a 23\n",
            "Enviado AT a 24\n",
            "Enviado TG a 25\n",
            "Enviado  a 26\n",
            "Enviado  G a 27\n",
            "Enviado  T a 28\n",
            "Enviado  T a 29\n",
            "Enviado  A a 30\n",
            "Enviado  G a 31\n",
            "Enviado    a 32\n",
            "Enviado    a 33\n",
            "Enviado  C a 34\n",
            "Enviado  G a 35\n",
            "Enviado    a 36\n",
            "Enviado  T a 37\n",
            "Enviado  A a 38\n",
            "-ACTGAGTCGGATGACTGAGTCGGATG\n",
            "-|||||||||||* ******** ****     ||  |  -\n",
            "-ACTGAGTCGGAA GGGAGTCG ATGGGTTAG  CG TA\n"
          ],
          "name": "stdout"
        }
      ]
    }
  ]
}