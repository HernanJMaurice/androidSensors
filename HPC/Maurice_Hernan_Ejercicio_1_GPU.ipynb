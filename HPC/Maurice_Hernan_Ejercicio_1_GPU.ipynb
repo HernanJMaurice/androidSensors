{
  "nbformat": 4,
  "nbformat_minor": 0,
  "metadata": {
    "colab": {
      "name": "Ejercicio 1 - GPU.ipynb",
      "provenance": [],
      "authorship_tag": "ABX9TyOU2y8p6SVDqwdQH3z3wrUh",
      "include_colab_link": true
    },
    "kernelspec": {
      "name": "python3",
      "display_name": "Python 3"
    },
    "accelerator": "GPU"
  },
  "cells": [
    {
      "cell_type": "markdown",
      "metadata": {
        "id": "view-in-github",
        "colab_type": "text"
      },
      "source": [
        "<a href=\"https://colab.research.google.com/github/HernanJMaurice/androidSensors/blob/main/HPC/Maurice_Hernan_Ejercicio_1_GPU.ipynb\" target=\"_parent\"><img src=\"https://colab.research.google.com/assets/colab-badge.svg\" alt=\"Open In Colab\"/></a>"
      ]
    },
    {
      "cell_type": "markdown",
      "metadata": {
        "id": "q7KtcDspw1QI"
      },
      "source": [
        "# 1 Introduccion\n",
        "\n",
        "  Una secuencia de ADN, secuencia de nucleótidos o secuencia genética es una sucesión de letras representando la estructura primaria de una molécula real o hipotética de ADN o banda, con la capacidad de transportar información.\n",
        "\n",
        "  Las letras son A, C, G y T, que simbolizan las cuatro subunidades de nucleótidos de una banda ADN - adenina, citosina, guanina, timina, que son bases covalentemente ligadas a cadenas fosfóricas. En el típico caso, las secuencias se presentan pegadas unas a las otras, sin espacios, como en la secuencia AAAGTCTGAC, yendo de 5' a 3' de izquierda a derecha.\n",
        "\n",
        "  La doble hélice del ADN, funciona para que los nucleótidos de cada cadena de ADN no sean exactamente iguales: en su lugar, son cadenas complementarias con bases de nucleótidos complementarios. Esto es, cada nucleótido es siempre emparejado con otro nucleótido específico en la cadena opuesta. Específicamente, la adenina (A) siempre estará complementada con la tiamina (T) en la cadena opuesta y la citosina (C) con la guanina (G) en la cadena opuesta.\n",
        "\n",
        "  Para obtener la cadena complementaria se debe verificar letra por letra de una cadena y emparejarlas con su opuesta. \n",
        "  Este Programa permite realizar el calculo de cadenas complementarias y cadenas complementarias inversas a partir de una cadena de nucleotidos. \n",
        "  \n",
        "  Recuerde que los nucleotidos aceptados son: A, C, G, T.\n",
        "\n",
        "  Ejemplo:\n",
        "   Cadena: CGATCCTAT\n",
        "   Cadena complementaria: GCTAGGATA\n",
        "   Cadena Complentaria inversa: ATAGGATCG"
      ]
    },
    {
      "cell_type": "markdown",
      "metadata": {
        "id": "SVE8exD_w-T9"
      },
      "source": [
        "Armado del ambiente: En esta sección deben estar todos los comandos previos, que son necesarios para la ejecución del desarrollo.\n",
        "# 2 Armado del Ambiente\n",
        "\n",
        "Se debe instalar el modulo de CUDA de Python."
      ]
    },
    {
      "cell_type": "code",
      "metadata": {
        "id": "tRqiWBPLD76e",
        "colab": {
          "base_uri": "https://localhost:8080/"
        },
        "outputId": "a84a02e0-2872-41da-eab9-ba645f3ceec4"
      },
      "source": [
        "!pip install pycuda"
      ],
      "execution_count": null,
      "outputs": [
        {
          "output_type": "stream",
          "text": [
            "Collecting pycuda\n",
            "\u001b[?25l  Downloading https://files.pythonhosted.org/packages/46/61/47d3235a4c13eec5a5f03594ddb268f4858734e02980afbcd806e6242fa5/pycuda-2020.1.tar.gz (1.6MB)\n",
            "\u001b[K     |████████████████████████████████| 1.6MB 19.0MB/s \n",
            "\u001b[?25hCollecting pytools>=2011.2\n",
            "\u001b[?25l  Downloading https://files.pythonhosted.org/packages/b7/30/c9362a282ef89106768cba9d884f4b2e4f5dc6881d0c19b478d2a710b82b/pytools-2020.4.3.tar.gz (62kB)\n",
            "\u001b[K     |████████████████████████████████| 71kB 11.4MB/s \n",
            "\u001b[?25hRequirement already satisfied: decorator>=3.2.0 in /usr/local/lib/python3.6/dist-packages (from pycuda) (4.4.2)\n",
            "Collecting appdirs>=1.4.0\n",
            "  Downloading https://files.pythonhosted.org/packages/3b/00/2344469e2084fb287c2e0b57b72910309874c3245463acd6cf5e3db69324/appdirs-1.4.4-py2.py3-none-any.whl\n",
            "Collecting mako\n",
            "\u001b[?25l  Downloading https://files.pythonhosted.org/packages/a6/37/0e706200d22172eb8fa17d68a7ae22dec7631a0a92266634fb518a88a5b2/Mako-1.1.3-py2.py3-none-any.whl (75kB)\n",
            "\u001b[K     |████████████████████████████████| 81kB 11.7MB/s \n",
            "\u001b[?25hRequirement already satisfied: six>=1.8.0 in /usr/local/lib/python3.6/dist-packages (from pytools>=2011.2->pycuda) (1.15.0)\n",
            "Requirement already satisfied: numpy>=1.6.0 in /usr/local/lib/python3.6/dist-packages (from pytools>=2011.2->pycuda) (1.18.5)\n",
            "Requirement already satisfied: dataclasses>=0.7 in /usr/local/lib/python3.6/dist-packages (from pytools>=2011.2->pycuda) (0.7)\n",
            "Requirement already satisfied: MarkupSafe>=0.9.2 in /usr/local/lib/python3.6/dist-packages (from mako->pycuda) (1.1.1)\n",
            "Building wheels for collected packages: pycuda, pytools\n",
            "  Building wheel for pycuda (setup.py) ... \u001b[?25l\u001b[?25hdone\n",
            "  Created wheel for pycuda: filename=pycuda-2020.1-cp36-cp36m-linux_x86_64.whl size=620990 sha256=81c849feb271aad3b93682b634bcf69e1c2b77cd5fe0697d1ffe9c8510208462\n",
            "  Stored in directory: /root/.cache/pip/wheels/8f/78/d1/5bb826f81d9d490297a348d818ff3ee6dd6f2075b06dde6ea0\n",
            "  Building wheel for pytools (setup.py) ... \u001b[?25l\u001b[?25hdone\n",
            "  Created wheel for pytools: filename=pytools-2020.4.3-py2.py3-none-any.whl size=61374 sha256=04f0b265780d9446176288705cdac389d19a198f16a7261c0313be0fce985d09\n",
            "  Stored in directory: /root/.cache/pip/wheels/af/c7/81/a22edb90b0b09a880468b2253bb1df8e9f503337ee15432c64\n",
            "Successfully built pycuda pytools\n",
            "Installing collected packages: appdirs, pytools, mako, pycuda\n",
            "Successfully installed appdirs-1.4.4 mako-1.1.3 pycuda-2020.1 pytools-2020.4.3\n"
          ],
          "name": "stdout"
        }
      ]
    },
    {
      "cell_type": "markdown",
      "metadata": {
        "id": "SDhRhpQGxTfU"
      },
      "source": [
        "# 3 Desarrollo\n"
      ]
    },
    {
      "cell_type": "code",
      "metadata": {
        "id": "BnQPK28DEGyD",
        "colab": {
          "base_uri": "https://localhost:8080/"
        },
        "outputId": "f09159d2-67fd-4196-9d79-36341356f9f2"
      },
      "source": [
        "# --------------------------------------------\n",
        "#@title 3.1 Parámetros de ejecución { vertical-output: false }\n",
        "\n",
        "cadena_ADN = 'ACTGAAATCGCGGC'#@param {type: \"string\"}\n",
        "\n",
        "try:\n",
        "    # Chequeo que solo tenga Nucleotidos permitidos.\n",
        "    if not cadena_ADN:\n",
        "        raise Exception(\"Error:\")\n",
        "except Exception as e:\n",
        "    print( e.args, \"Ingrese una cadena de ADN.\" )   # Muestra el parámetros.\n",
        "\n",
        "\n",
        "# Lo paso siempre a Mayuscula.\n",
        "cadena_ADN = cadena_ADN.upper()\n",
        "\n",
        "import re\n",
        "import numpy\n",
        "\n",
        "pattern = re.compile(\"(A|C|T|G)+\")\n",
        "\n",
        "\n",
        "try:\n",
        "    # Chequeo que solo tenga Nucleotidos permitidos.\n",
        "    if pattern.fullmatch(cadena_ADN) is None :\n",
        "        raise Exception(\"Error:\")\n",
        "except Exception as e:\n",
        "    print( e.args, \"Los nucleotidos pueden ser: A, C, T o G.\" )   # Muestra el parámetros.\n",
        "\n",
        "# --------------------------------------------\n",
        "# Definición de función que transforma el tiempo en  milisegundos \n",
        "tiempo_en_ms = lambda dt:(dt.days * 24 * 60 * 60 + dt.seconds) * 1000 + dt.microseconds / 1000.0\n",
        "\n",
        "\n",
        "#Creo Array de CHAR\n",
        "cadena_ADN_char = numpy.array(list(cadena_ADN))\n",
        "\n",
        "cantidad_Nucleotidos = len(cadena_ADN_char)\n",
        "\n",
        "cadena_ADN_Complementaria = numpy.empty_like(cadena_ADN_char)\n",
        "cadena_ADN_Complementaria_Inversa  = numpy.empty_like(cadena_ADN_char)\n",
        "\n",
        "# --------------------------------------------\n",
        "\n",
        "from datetime import datetime\n",
        "\n",
        "tiempo_total = datetime.now()\n",
        "\n",
        "import pycuda.driver as cuda\n",
        "import pycuda.autoinit\n",
        "from pycuda.compiler import SourceModule\n",
        "\n",
        "# CPU - reservo la memoria GPU.\n",
        "cadena_ADN_char_GPU = cuda.mem_alloc( cadena_ADN_char.nbytes )\n",
        "cadena_ADN_Complementaria_GPU = cuda.mem_alloc( cadena_ADN_Complementaria.nbytes )\n",
        "cadena_ADN_Complementaria_Inversa_GPU = cuda.mem_alloc( cadena_ADN_Complementaria_Inversa.nbytes )\n",
        "\n",
        "# GPU - Copio la memoria al GPU.\n",
        "cuda.memcpy_htod( cadena_ADN_char_GPU, cadena_ADN_char )\n",
        "\n",
        "\n",
        "# CPU - Defino la función kernel que ejecutará en GPU.\n",
        "module = SourceModule(\"\"\"\n",
        "__global__ void kernel_secADN( int n, char *origen, char *complementario, char *complementario_inversa )\n",
        "{\n",
        "  int indice = threadIdx.x + blockIdx.x*blockDim.x;\n",
        "  if( indice < n )\n",
        "  {\n",
        "     if (origen[indice*4] =='A')\n",
        "     {\n",
        "        complementario[indice*4] = 'T';\n",
        "     }else if(origen[indice*4] =='C')\n",
        "    {\n",
        "       complementario[indice*4] = 'G';\n",
        "    }else if( origen[indice*4] =='G')\n",
        "    {\n",
        "        complementario[indice*4] = 'C';\n",
        "    }else if(origen[indice*4] =='T' )\n",
        "    {\n",
        "        complementario[indice*4] = 'A' ;\n",
        "    }\n",
        "  }\n",
        "}\n",
        "\"\"\") \n",
        "# CPU - Genero la función kernel.\n",
        "kernel = module.get_function(\"kernel_secADN\")\n",
        "\n",
        "tiempo_gpu = datetime.now()\n",
        "\n",
        "# GPU - Ejecuta el kernel.\n",
        "# TODO: Falta consultar limites del GPU, para armar las dimensiones correctamente.\n",
        "dim_hilo = 256\n",
        "dim_bloque = numpy.int( (cantidad_Nucleotidos+dim_hilo-1) / dim_hilo )\n",
        "print( \"Thread x: \", dim_hilo, \", Bloque x:\", dim_bloque )\n",
        "\n",
        "#TODO: Ojo, con los tipos de las variables en el kernel.\n",
        "kernel( numpy.int32(cantidad_Nucleotidos), cadena_ADN_char_GPU, cadena_ADN_Complementaria_GPU, cadena_ADN_Complementaria_Inversa_GPU, block=( dim_hilo, 1, 1 ),grid=(dim_bloque, 1,1) )\n",
        "\n",
        "tiempo_gpu = datetime.now() - tiempo_gpu\n",
        "\n",
        "# GPU - Copio el resultado desde la memoria GPU.\n",
        "cuda.memcpy_dtoh( cadena_ADN_Complementaria, cadena_ADN_Complementaria_GPU )\n",
        "cuda.memcpy_dtoh( cadena_ADN_Complementaria_Inversa, cadena_ADN_Complementaria_Inversa_GPU )\n",
        "\n",
        "\"\"\"\n",
        "# CPU - Informo el resutlado.\n",
        "print( \"------------------------------------\")\n",
        "print( \"X: \" )\n",
        "print( x_cpu )\n",
        "print( \"------------------------------------\")\n",
        "print( \"Y: \" )\n",
        "print( y_cpu )\n",
        "print( \"------------------------------------\")\n",
        "print( \"R: \" )\n",
        "print( r_cpu )\n",
        "\"\"\"\n",
        "\n",
        "tiempo_total = datetime.now() - tiempo_total\n",
        "\n",
        "print( \"Thread x: \", dim_hilo, \", Bloque x:\", dim_bloque )\n",
        "print(\"Cadena ADN original: \", cadena_ADN_char )\n",
        "print(\"Cadena ADN Complementaria: \", cadena_ADN_Complementaria )\n",
        "#print(\"Cadena ADN Complementaria Inversa: \",  cadena_ADN_Complementaria_Inversa )\n",
        "print(\"Tiempo Total: \", tiempo_en_ms( tiempo_total ), \"[ms]\" )\n",
        "print(\"Tiempo bucle: \", tiempo_en_ms( tiempo_gpu ), \"[ms]\" )"
      ],
      "execution_count": null,
      "outputs": [
        {
          "output_type": "stream",
          "text": [
            "Thread x:  256 , Bloque x: 1\n",
            "Thread x:  256 , Bloque x: 1\n",
            "Cadena ADN original:  ['A' 'C' 'T' 'G' 'A' 'A' 'A' 'T' 'C' 'G' 'C' 'G' 'G' 'C']\n",
            "Cadena ADN Complementaria:  ['T' 'G' 'A' 'C' 'T' 'T' 'T' 'A' 'G' 'C' 'G' 'C' 'C' 'G']\n",
            "Tiempo Total:  3.663 [ms]\n",
            "Tiempo bucle:  0.592 [ms]\n"
          ],
          "name": "stdout"
        }
      ]
    },
    {
      "cell_type": "markdown",
      "metadata": {
        "id": "YCid_qrpyHZM"
      },
      "source": [
        "# 4 Tabla de pasos de ejecución del programa\n",
        "\n",
        "\n",
        " Procesador | Funciòn | Detalle\n",
        "------------|---------|----------\n",
        "CPU      |  @param                | Lectura del tamaño de vectores desde Colab.\n",
        "CPU      |  import                | Importa los módulos para funcionar.\n",
        "CPU      |  datetime.now()        | Toma el tiempo actual.\n",
        "CPU      |  numpy.random.randn( Cantidad_N ) | Inicializa los vectoes A, B y R.\n",
        "**GPU**  |  cuda.mem_alloc()      | Reserva la memoria en GPU.\n",
        "**GPU**  |  cuda.memcpy_htod()    | Copia las memorias desde el CPU al GPU.\n",
        "CPU      |  SourceModule()        | Define el código del kernel \n",
        "CPU      |  module.get_function() | Genera la función del kernel GPU\n",
        "CPU      |  dim_tx/dim_bx         | Calcula las dimensiones.\n",
        "**GPU**  |  kernel()              | Ejecuta el kernel en GPU\n",
        "CPU      |  cuda.memcpy_dtoh( )   | Copia el resultado desde GPU memoria A a CPU memoria R.\n",
        "CPU      |  print()               | Informo los resultados.\n"
      ]
    },
    {
      "cell_type": "markdown",
      "metadata": {
        "id": "ACsbZ2kPyLUi"
      },
      "source": [
        "# 5 Conclusiones.\n",
        "\n",
        "Computacionalmente se recorre uno a uno los elementos de la cadena de ADN,  que realiza un algoritmo con complejidad N. Por cada elemento nuevo en la cadena, el tiempo de ejecucion es mas largo ya que se carga a la CPU con todo el procesamiento.\n"
      ]
    },
    {
      "cell_type": "markdown",
      "metadata": {
        "id": "w0l-B6AMyOVK"
      },
      "source": [
        "#6 Bibliografia\n",
        "1 - Explicacion ADN: https://www.ncbi.nlm.nih.gov/books/NBK26821/\n",
        "\n",
        "2 - Ejercicio Ejemplo Cadena ADN: https://www.youtube.com/watch?v=bcQQYsrGetM\n",
        "\n",
        "3 - Informacion Cadenas ADN: https://es.wikipedia.org/wiki/Secuencia_de_ADN"
      ]
    }
  ]
}