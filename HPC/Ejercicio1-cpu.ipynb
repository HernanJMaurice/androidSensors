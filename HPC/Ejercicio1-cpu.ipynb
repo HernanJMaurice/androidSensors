{
  "nbformat": 4,
  "nbformat_minor": 0,
  "metadata": {
    "colab": {
      "name": "Ejercicio1.ipynb",
      "provenance": [],
      "authorship_tag": "ABX9TyMVg4Mbt0Dd01P7klL9ghMM",
      "include_colab_link": true
    },
    "kernelspec": {
      "name": "python3",
      "display_name": "Python 3"
    }
  },
  "cells": [
    {
      "cell_type": "markdown",
      "metadata": {
        "id": "view-in-github",
        "colab_type": "text"
      },
      "source": [
        "<a href=\"https://colab.research.google.com/github/HernanJMaurice/androidSensors/blob/main/HPC/Ejercicio1-cpu.ipynb\" target=\"_parent\"><img src=\"https://colab.research.google.com/assets/colab-badge.svg\" alt=\"Open In Colab\"/></a>"
      ]
    },
    {
      "cell_type": "markdown",
      "metadata": {
        "id": "tqRlHq5hknUT"
      },
      "source": [
        "**EJERCICIO 1 - CPU**"
      ]
    },
    {
      "cell_type": "code",
      "metadata": {
        "id": "sAgWHoUajttC",
        "outputId": "d3269143-4b0c-4e68-df82-64e83afd9680",
        "colab": {
          "base_uri": "https://localhost:8080/"
        }
      },
      "source": [
        "# --------------------------------------------\n",
        "#@title 3.1 Parámetros de ejecución { vertical-output: true }\n",
        "\n",
        "cadena_ADN = 'CGATCCTAT'#@param {type: \"string\"}\n",
        "\n",
        "# Lo paso siempre a Mayuscula.\n",
        "cadena_ADN = cadena_ADN.upper()\n",
        "\n",
        "import re\n",
        "\n",
        "pattern = re.compile(\"(A|C|T|G)+\")\n",
        "\n",
        "# Chequeo que solo tenga Nucleotidos permitidos.\n",
        "if pattern.fullmatch(cadena_ADN) is None :\n",
        "\n",
        "    print(\"Los nucleotidos pueden ser: A, C, T o G.\")\n",
        "    quit()  \n",
        "\n",
        "\n",
        "#Creo Array de CHAR\n",
        "cadena_ADN_char = list(cadena_ADN)\n",
        "cantidad_Nucleotidos = len(cadena_ADN_char)\n",
        "\n",
        "cadena_ADN_Complementaria = [\"\\0\"] * cantidad_Nucleotidos\n",
        "cadena_ADN_Complementaria_Inversa  = [\"\\0\"] * cantidad_Nucleotidos\n",
        "\n",
        "# --------------------------------------------\n",
        "\n",
        "from datetime import datetime\n",
        "\n",
        "tiempo_total = datetime.now()\n",
        "\n",
        "# --------------------------------------------\n",
        "# Definición de función que transforma el tiempo en  milisegundos \n",
        "tiempo_en_ms = lambda dt:(dt.days * 24 * 60 * 60 + dt.seconds) * 1000 + dt.microseconds / 1000.0\n",
        "\n",
        "tiempo_bucle = datetime.now()\n",
        "\n",
        "for indice in range( 0, cantidad_Nucleotidos ):\n",
        "\n",
        "    if cadena_ADN_char[indice] is'A' :\n",
        "        cadena_ADN_Complementaria[indice] = 'T'\n",
        "        cadena_ADN_Complementaria_Inversa[cantidad_Nucleotidos-indice-1] ='T'\n",
        "    elif cadena_ADN_char[indice] is'C' :\n",
        "        cadena_ADN_Complementaria[indice] = 'G'\n",
        "        cadena_ADN_Complementaria_Inversa[cantidad_Nucleotidos-indice-1] ='G'\n",
        "    elif cadena_ADN_char[indice] is'G' :\n",
        "        cadena_ADN_Complementaria[indice] = 'C'\n",
        "        cadena_ADN_Complementaria_Inversa[cantidad_Nucleotidos-indice-1] ='C'\n",
        "    elif cadena_ADN_char[indice] is'T' :\n",
        "        cadena_ADN_Complementaria[indice] = 'A' \n",
        "        cadena_ADN_Complementaria_Inversa[cantidad_Nucleotidos-indice-1] ='A'\n",
        "\n",
        "\n",
        "tiempo_bucle = datetime.now() - tiempo_bucle\n",
        "\n",
        "# --------------------------------------------\n",
        "\n",
        "\"\"\"\n",
        "# CPU - Informo el resultado.\n",
        "print( \"------------------------------------\")\n",
        "print( \"X: \" )\n",
        "print( x_cpu )\n",
        "print( \"------------------------------------\")\n",
        "print( \"Y: \" )\n",
        "print( y_cpu )\n",
        "print( \"------------------------------------\")\n",
        "\"\"\"\n",
        "\n",
        "tiempo_total = datetime.now() - tiempo_total\n",
        "\n",
        "print(\"Cadena ADN original: \", cadena_ADN_char )\n",
        "print(\"Cadena ADN Complementaria: \", cadena_ADN_Complementaria )\n",
        "print(\"Cadena ADN Complementaria Inversa: \",  cadena_ADN_Complementaria_Inversa )\n",
        "print(\"Tiempo Total: \", tiempo_en_ms( tiempo_total ), \"[ms]\" )\n",
        "print(\"Tiempo bucle: \", tiempo_en_ms( tiempo_bucle ), \"[ms]\" )\n"
      ],
      "execution_count": 7,
      "outputs": [
        {
          "output_type": "stream",
          "text": [
            "Cadena ADN original:  ['C', 'G', 'A', 'T', 'C', 'C', 'T', 'A', 'T']\n",
            "Cadena ADN Complementaria:  ['G', 'C', 'T', 'A', 'G', 'G', 'A', 'T', 'A']\n",
            "Cadena ADN Complementaria Inversa:  ['A', 'T', 'A', 'G', 'G', 'A', 'T', 'C', 'G']\n",
            "Tiempo Total:  0.227 [ms]\n",
            "Tiempo bucle:  0.121 [ms]\n"
          ],
          "name": "stdout"
        }
      ]
    }
  ]
}